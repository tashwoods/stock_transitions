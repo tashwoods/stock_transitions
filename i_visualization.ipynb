{
 "cells": [
  {
   "cell_type": "code",
   "execution_count": 2,
   "metadata": {},
   "outputs": [],
   "source": [
    "import pandas as pd"
   ]
  },
  {
   "cell_type": "code",
   "execution_count": 3,
   "metadata": {},
   "outputs": [],
   "source": [
    "def get_data(filename):\n",
    "    return pd.read_csv(filename)"
   ]
  },
  {
   "cell_type": "code",
   "execution_count": 4,
   "metadata": {},
   "outputs": [],
   "source": [
    "formatted_data=get_data(\"mrin.us.txt\")"
   ]
  },
  {
   "cell_type": "code",
   "execution_count": 5,
   "metadata": {},
   "outputs": [
    {
     "data": {
      "text/html": [
       "<div>\n",
       "<style scoped>\n",
       "    .dataframe tbody tr th:only-of-type {\n",
       "        vertical-align: middle;\n",
       "    }\n",
       "\n",
       "    .dataframe tbody tr th {\n",
       "        vertical-align: top;\n",
       "    }\n",
       "\n",
       "    .dataframe thead th {\n",
       "        text-align: right;\n",
       "    }\n",
       "</style>\n",
       "<table border=\"1\" class=\"dataframe\">\n",
       "  <thead>\n",
       "    <tr style=\"text-align: right;\">\n",
       "      <th></th>\n",
       "      <th>Date</th>\n",
       "      <th>Open</th>\n",
       "      <th>High</th>\n",
       "      <th>Low</th>\n",
       "      <th>Close</th>\n",
       "      <th>Volume</th>\n",
       "      <th>OpenInt</th>\n",
       "    </tr>\n",
       "  </thead>\n",
       "  <tbody>\n",
       "    <tr>\n",
       "      <th>0</th>\n",
       "      <td>2013-03-22</td>\n",
       "      <td>133.00</td>\n",
       "      <td>139.65</td>\n",
       "      <td>113.82</td>\n",
       "      <td>113.82</td>\n",
       "      <td>1571124</td>\n",
       "      <td>0</td>\n",
       "    </tr>\n",
       "    <tr>\n",
       "      <th>1</th>\n",
       "      <td>2013-03-25</td>\n",
       "      <td>116.55</td>\n",
       "      <td>116.55</td>\n",
       "      <td>106.05</td>\n",
       "      <td>111.09</td>\n",
       "      <td>177744</td>\n",
       "      <td>0</td>\n",
       "    </tr>\n",
       "    <tr>\n",
       "      <th>2</th>\n",
       "      <td>2013-03-26</td>\n",
       "      <td>113.05</td>\n",
       "      <td>121.66</td>\n",
       "      <td>112.07</td>\n",
       "      <td>119.28</td>\n",
       "      <td>49860</td>\n",
       "      <td>0</td>\n",
       "    </tr>\n",
       "    <tr>\n",
       "      <th>3</th>\n",
       "      <td>2013-03-27</td>\n",
       "      <td>119.00</td>\n",
       "      <td>119.00</td>\n",
       "      <td>115.43</td>\n",
       "      <td>115.85</td>\n",
       "      <td>28975</td>\n",
       "      <td>0</td>\n",
       "    </tr>\n",
       "    <tr>\n",
       "      <th>4</th>\n",
       "      <td>2013-03-28</td>\n",
       "      <td>115.92</td>\n",
       "      <td>116.97</td>\n",
       "      <td>113.05</td>\n",
       "      <td>115.01</td>\n",
       "      <td>15870</td>\n",
       "      <td>0</td>\n",
       "    </tr>\n",
       "  </tbody>\n",
       "</table>\n",
       "</div>"
      ],
      "text/plain": [
       "         Date    Open    High     Low   Close   Volume  OpenInt\n",
       "0  2013-03-22  133.00  139.65  113.82  113.82  1571124        0\n",
       "1  2013-03-25  116.55  116.55  106.05  111.09   177744        0\n",
       "2  2013-03-26  113.05  121.66  112.07  119.28    49860        0\n",
       "3  2013-03-27  119.00  119.00  115.43  115.85    28975        0\n",
       "4  2013-03-28  115.92  116.97  113.05  115.01    15870        0"
      ]
     },
     "execution_count": 5,
     "metadata": {},
     "output_type": "execute_result"
    }
   ],
   "source": [
    "formatted_data.head()"
   ]
  },
  {
   "cell_type": "code",
   "execution_count": 6,
   "metadata": {},
   "outputs": [
    {
     "name": "stdout",
     "output_type": "stream",
     "text": [
      "<class 'pandas.core.frame.DataFrame'>\n",
      "RangeIndex: 1171 entries, 0 to 1170\n",
      "Data columns (total 7 columns):\n",
      " #   Column   Non-Null Count  Dtype  \n",
      "---  ------   --------------  -----  \n",
      " 0   Date     1171 non-null   object \n",
      " 1   Open     1171 non-null   float64\n",
      " 2   High     1171 non-null   float64\n",
      " 3   Low      1171 non-null   float64\n",
      " 4   Close    1171 non-null   float64\n",
      " 5   Volume   1171 non-null   int64  \n",
      " 6   OpenInt  1171 non-null   int64  \n",
      "dtypes: float64(4), int64(2), object(1)\n",
      "memory usage: 64.2+ KB\n"
     ]
    }
   ],
   "source": [
    "formatted_data.info()"
   ]
  },
  {
   "cell_type": "code",
   "execution_count": 7,
   "metadata": {},
   "outputs": [
    {
     "data": {
      "text/plain": [
       "0    1171\n",
       "Name: OpenInt, dtype: int64"
      ]
     },
     "execution_count": 7,
     "metadata": {},
     "output_type": "execute_result"
    }
   ],
   "source": [
    "formatted_data[\"OpenInt\"].value_counts()"
   ]
  },
  {
   "cell_type": "code",
   "execution_count": 8,
   "metadata": {},
   "outputs": [
    {
     "data": {
      "text/plain": [
       "16.1000     29\n",
       "16.4500     20\n",
       "16.8000     18\n",
       "8.3998      18\n",
       "8.7498      16\n",
       "            ..\n",
       "28.5590      1\n",
       "82.6680      1\n",
       "55.9290      1\n",
       "27.5790      1\n",
       "133.0000     1\n",
       "Name: Open, Length: 618, dtype: int64"
      ]
     },
     "execution_count": 8,
     "metadata": {},
     "output_type": "execute_result"
    }
   ],
   "source": [
    "formatted_data[\"Open\"].value_counts()"
   ]
  },
  {
   "cell_type": "code",
   "execution_count": 9,
   "metadata": {},
   "outputs": [
    {
     "data": {
      "text/html": [
       "<div>\n",
       "<style scoped>\n",
       "    .dataframe tbody tr th:only-of-type {\n",
       "        vertical-align: middle;\n",
       "    }\n",
       "\n",
       "    .dataframe tbody tr th {\n",
       "        vertical-align: top;\n",
       "    }\n",
       "\n",
       "    .dataframe thead th {\n",
       "        text-align: right;\n",
       "    }\n",
       "</style>\n",
       "<table border=\"1\" class=\"dataframe\">\n",
       "  <thead>\n",
       "    <tr style=\"text-align: right;\">\n",
       "      <th></th>\n",
       "      <th>Open</th>\n",
       "      <th>High</th>\n",
       "      <th>Low</th>\n",
       "      <th>Close</th>\n",
       "      <th>Volume</th>\n",
       "      <th>OpenInt</th>\n",
       "    </tr>\n",
       "  </thead>\n",
       "  <tbody>\n",
       "    <tr>\n",
       "      <th>count</th>\n",
       "      <td>1171.000000</td>\n",
       "      <td>1171.000000</td>\n",
       "      <td>1171.000000</td>\n",
       "      <td>1171.000000</td>\n",
       "      <td>1.171000e+03</td>\n",
       "      <td>1171.0</td>\n",
       "    </tr>\n",
       "    <tr>\n",
       "      <th>mean</th>\n",
       "      <td>42.868462</td>\n",
       "      <td>43.796926</td>\n",
       "      <td>41.789436</td>\n",
       "      <td>42.769497</td>\n",
       "      <td>2.471045e+04</td>\n",
       "      <td>0.0</td>\n",
       "    </tr>\n",
       "    <tr>\n",
       "      <th>std</th>\n",
       "      <td>28.402420</td>\n",
       "      <td>28.919131</td>\n",
       "      <td>27.667182</td>\n",
       "      <td>28.255437</td>\n",
       "      <td>5.574008e+04</td>\n",
       "      <td>0.0</td>\n",
       "    </tr>\n",
       "    <tr>\n",
       "      <th>min</th>\n",
       "      <td>6.999900</td>\n",
       "      <td>7.349900</td>\n",
       "      <td>6.999900</td>\n",
       "      <td>6.999900</td>\n",
       "      <td>3.650000e+02</td>\n",
       "      <td>0.0</td>\n",
       "    </tr>\n",
       "    <tr>\n",
       "      <th>25%</th>\n",
       "      <td>16.590000</td>\n",
       "      <td>17.010000</td>\n",
       "      <td>16.345000</td>\n",
       "      <td>16.660000</td>\n",
       "      <td>9.538500e+03</td>\n",
       "      <td>0.0</td>\n",
       "    </tr>\n",
       "    <tr>\n",
       "      <th>50%</th>\n",
       "      <td>40.249000</td>\n",
       "      <td>40.599000</td>\n",
       "      <td>39.059000</td>\n",
       "      <td>39.829000</td>\n",
       "      <td>1.587000e+04</td>\n",
       "      <td>0.0</td>\n",
       "    </tr>\n",
       "    <tr>\n",
       "      <th>75%</th>\n",
       "      <td>66.919000</td>\n",
       "      <td>68.284000</td>\n",
       "      <td>65.064000</td>\n",
       "      <td>66.919000</td>\n",
       "      <td>2.656850e+04</td>\n",
       "      <td>0.0</td>\n",
       "    </tr>\n",
       "    <tr>\n",
       "      <th>max</th>\n",
       "      <td>133.000000</td>\n",
       "      <td>139.650000</td>\n",
       "      <td>115.430000</td>\n",
       "      <td>119.280000</td>\n",
       "      <td>1.571124e+06</td>\n",
       "      <td>0.0</td>\n",
       "    </tr>\n",
       "  </tbody>\n",
       "</table>\n",
       "</div>"
      ],
      "text/plain": [
       "              Open         High          Low        Close        Volume  \\\n",
       "count  1171.000000  1171.000000  1171.000000  1171.000000  1.171000e+03   \n",
       "mean     42.868462    43.796926    41.789436    42.769497  2.471045e+04   \n",
       "std      28.402420    28.919131    27.667182    28.255437  5.574008e+04   \n",
       "min       6.999900     7.349900     6.999900     6.999900  3.650000e+02   \n",
       "25%      16.590000    17.010000    16.345000    16.660000  9.538500e+03   \n",
       "50%      40.249000    40.599000    39.059000    39.829000  1.587000e+04   \n",
       "75%      66.919000    68.284000    65.064000    66.919000  2.656850e+04   \n",
       "max     133.000000   139.650000   115.430000   119.280000  1.571124e+06   \n",
       "\n",
       "       OpenInt  \n",
       "count   1171.0  \n",
       "mean       0.0  \n",
       "std        0.0  \n",
       "min        0.0  \n",
       "25%        0.0  \n",
       "50%        0.0  \n",
       "75%        0.0  \n",
       "max        0.0  "
      ]
     },
     "execution_count": 9,
     "metadata": {},
     "output_type": "execute_result"
    }
   ],
   "source": [
    "formatted_data.describe()"
   ]
  },
  {
   "cell_type": "code",
   "execution_count": 10,
   "metadata": {},
   "outputs": [
    {
     "data": {
      "text/plain": [
       "array([[<matplotlib.axes._subplots.AxesSubplot object at 0x119a4ecf8>,\n",
       "        <matplotlib.axes._subplots.AxesSubplot object at 0x11bb0fcf8>],\n",
       "       [<matplotlib.axes._subplots.AxesSubplot object at 0x11bb4f2b0>,\n",
       "        <matplotlib.axes._subplots.AxesSubplot object at 0x11bb7e860>],\n",
       "       [<matplotlib.axes._subplots.AxesSubplot object at 0x11bbb2e10>,\n",
       "        <matplotlib.axes._subplots.AxesSubplot object at 0x11bbed400>]],\n",
       "      dtype=object)"
      ]
     },
     "execution_count": 10,
     "metadata": {},
     "output_type": "execute_result"
    },
    {
     "data": {
      "image/png": "[encoded data removed]",
      "text/plain": [
       "<Figure size 1440x1080 with 6 Axes>"
      ]
     },
     "metadata": {
      "needs_background": "light"
     },
     "output_type": "display_data"
    }
   ],
   "source": [
    "formatted_data.hist(bins=50,figsize=(20,15))"
   ]
  },
  {
   "cell_type": "code",
   "execution_count": 11,
   "metadata": {},
   "outputs": [],
   "source": [
    "formatted_data.Date=formatted_data['Date'].str.replace(\"-\",\"\").astype(int)\n",
    "#formatted_data.Date=formatted_data/10000\n"
   ]
  },
  {
   "cell_type": "code",
   "execution_count": 12,
   "metadata": {},
   "outputs": [
    {
     "data": {
      "text/html": [
       "<div>\n",
       "<style scoped>\n",
       "    .dataframe tbody tr th:only-of-type {\n",
       "        vertical-align: middle;\n",
       "    }\n",
       "\n",
       "    .dataframe tbody tr th {\n",
       "        vertical-align: top;\n",
       "    }\n",
       "\n",
       "    .dataframe thead th {\n",
       "        text-align: right;\n",
       "    }\n",
       "</style>\n",
       "<table border=\"1\" class=\"dataframe\">\n",
       "  <thead>\n",
       "    <tr style=\"text-align: right;\">\n",
       "      <th></th>\n",
       "      <th>Date</th>\n",
       "      <th>Open</th>\n",
       "      <th>High</th>\n",
       "      <th>Low</th>\n",
       "      <th>Close</th>\n",
       "      <th>Volume</th>\n",
       "      <th>OpenInt</th>\n",
       "    </tr>\n",
       "  </thead>\n",
       "  <tbody>\n",
       "    <tr>\n",
       "      <th>0</th>\n",
       "      <td>20130322</td>\n",
       "      <td>133.00</td>\n",
       "      <td>139.65</td>\n",
       "      <td>113.82</td>\n",
       "      <td>113.82</td>\n",
       "      <td>1571124</td>\n",
       "      <td>0</td>\n",
       "    </tr>\n",
       "    <tr>\n",
       "      <th>1</th>\n",
       "      <td>20130325</td>\n",
       "      <td>116.55</td>\n",
       "      <td>116.55</td>\n",
       "      <td>106.05</td>\n",
       "      <td>111.09</td>\n",
       "      <td>177744</td>\n",
       "      <td>0</td>\n",
       "    </tr>\n",
       "    <tr>\n",
       "      <th>2</th>\n",
       "      <td>20130326</td>\n",
       "      <td>113.05</td>\n",
       "      <td>121.66</td>\n",
       "      <td>112.07</td>\n",
       "      <td>119.28</td>\n",
       "      <td>49860</td>\n",
       "      <td>0</td>\n",
       "    </tr>\n",
       "    <tr>\n",
       "      <th>3</th>\n",
       "      <td>20130327</td>\n",
       "      <td>119.00</td>\n",
       "      <td>119.00</td>\n",
       "      <td>115.43</td>\n",
       "      <td>115.85</td>\n",
       "      <td>28975</td>\n",
       "      <td>0</td>\n",
       "    </tr>\n",
       "    <tr>\n",
       "      <th>4</th>\n",
       "      <td>20130328</td>\n",
       "      <td>115.92</td>\n",
       "      <td>116.97</td>\n",
       "      <td>113.05</td>\n",
       "      <td>115.01</td>\n",
       "      <td>15870</td>\n",
       "      <td>0</td>\n",
       "    </tr>\n",
       "  </tbody>\n",
       "</table>\n",
       "</div>"
      ],
      "text/plain": [
       "       Date    Open    High     Low   Close   Volume  OpenInt\n",
       "0  20130322  133.00  139.65  113.82  113.82  1571124        0\n",
       "1  20130325  116.55  116.55  106.05  111.09   177744        0\n",
       "2  20130326  113.05  121.66  112.07  119.28    49860        0\n",
       "3  20130327  119.00  119.00  115.43  115.85    28975        0\n",
       "4  20130328  115.92  116.97  113.05  115.01    15870        0"
      ]
     },
     "execution_count": 12,
     "metadata": {},
     "output_type": "execute_result"
    }
   ],
   "source": [
    "formatted_data.head()"
   ]
  },
  {
   "cell_type": "code",
   "execution_count": 19,
   "metadata": {},
   "outputs": [
    {
     "data": {
      "text/plain": [
       "<matplotlib.axes._subplots.AxesSubplot at 0x11cc4d710>"
      ]
     },
     "execution_count": 19,
     "metadata": {},
     "output_type": "execute_result"
    },
    {
     "data": {
      "image/png": "[encoded data removed]",
      "text/plain": [
       "<Figure size 432x288 with 1 Axes>"
      ]
     },
     "metadata": {
      "needs_background": "light"
     },
     "output_type": "display_data"
    },
    {
     "data": {
      "image/png": "[encoded data removed]",
      "text/plain": [
       "<Figure size 432x288 with 1 Axes>"
      ]
     },
     "metadata": {
      "needs_background": "light"
     },
     "output_type": "display_data"
    }
   ],
   "source": [
    "formatted_data.plot(x='Date',y='Volume')\n",
    "formatted_data.plot(x='Date',y='Close')"
   ]
  },
  {
   "cell_type": "code",
   "execution_count": 14,
   "metadata": {},
   "outputs": [
    {
     "data": {
      "text/html": [
       "<div>\n",
       "<style scoped>\n",
       "    .dataframe tbody tr th:only-of-type {\n",
       "        vertical-align: middle;\n",
       "    }\n",
       "\n",
       "    .dataframe tbody tr th {\n",
       "        vertical-align: top;\n",
       "    }\n",
       "\n",
       "    .dataframe thead th {\n",
       "        text-align: right;\n",
       "    }\n",
       "</style>\n",
       "<table border=\"1\" class=\"dataframe\">\n",
       "  <thead>\n",
       "    <tr style=\"text-align: right;\">\n",
       "      <th></th>\n",
       "      <th>Date</th>\n",
       "      <th>Open</th>\n",
       "      <th>High</th>\n",
       "      <th>Low</th>\n",
       "      <th>Close</th>\n",
       "      <th>Volume</th>\n",
       "      <th>OpenInt</th>\n",
       "    </tr>\n",
       "  </thead>\n",
       "  <tbody>\n",
       "    <tr>\n",
       "      <th>0</th>\n",
       "      <td>20130322</td>\n",
       "      <td>133.00</td>\n",
       "      <td>139.65</td>\n",
       "      <td>113.82</td>\n",
       "      <td>113.82</td>\n",
       "      <td>1571124</td>\n",
       "      <td>0</td>\n",
       "    </tr>\n",
       "    <tr>\n",
       "      <th>1</th>\n",
       "      <td>20130325</td>\n",
       "      <td>116.55</td>\n",
       "      <td>116.55</td>\n",
       "      <td>106.05</td>\n",
       "      <td>111.09</td>\n",
       "      <td>177744</td>\n",
       "      <td>0</td>\n",
       "    </tr>\n",
       "  </tbody>\n",
       "</table>\n",
       "</div>"
      ],
      "text/plain": [
       "       Date    Open    High     Low   Close   Volume  OpenInt\n",
       "0  20130322  133.00  139.65  113.82  113.82  1571124        0\n",
       "1  20130325  116.55  116.55  106.05  111.09   177744        0"
      ]
     },
     "execution_count": 14,
     "metadata": {},
     "output_type": "execute_result"
    }
   ],
   "source": [
    "formatted_data.head(2)"
   ]
  },
  {
   "cell_type": "code",
   "execution_count": 15,
   "metadata": {},
   "outputs": [
    {
     "name": "stdout",
     "output_type": "stream",
     "text": [
      "Index(['Date', 'Open', 'High', 'Low', 'Close', 'Volume', 'OpenInt'], dtype='object')\n"
     ]
    }
   ],
   "source": [
    "print(formatted_data.columns)"
   ]
  },
  {
   "cell_type": "code",
   "execution_count": 16,
   "metadata": {},
   "outputs": [
    {
     "ename": "NameError",
     "evalue": "name 'plt' is not defined",
     "output_type": "error",
     "traceback": [
      "\u001b[0;31m---------------------------------------------------------------------------\u001b[0m",
      "\u001b[0;31mNameError\u001b[0m                                 Traceback (most recent call last)",
      "\u001b[0;32m<ipython-input-16-ec25e640477a>\u001b[0m in \u001b[0;36m<module>\u001b[0;34m\u001b[0m\n\u001b[0;32m----> 1\u001b[0;31m \u001b[0mfig\u001b[0m\u001b[0;34m=\u001b[0m\u001b[0mplt\u001b[0m\u001b[0;34m.\u001b[0m\u001b[0mfigure\u001b[0m\u001b[0;34m(\u001b[0m\u001b[0mfigsize\u001b[0m\u001b[0;34m=\u001b[0m\u001b[0;34m(\u001b[0m\u001b[0;36m12\u001b[0m\u001b[0;34m,\u001b[0m\u001b[0;36m5\u001b[0m\u001b[0;34m)\u001b[0m\u001b[0;34m)\u001b[0m\u001b[0;34m\u001b[0m\u001b[0;34m\u001b[0m\u001b[0m\n\u001b[0m\u001b[1;32m      2\u001b[0m \u001b[0mplt\u001b[0m\u001b[0;34m.\u001b[0m\u001b[0mxlabel\u001b[0m\u001b[0;34m(\u001b[0m\u001b[0;34m'Date'\u001b[0m\u001b[0;34m)\u001b[0m\u001b[0;34m\u001b[0m\u001b[0;34m\u001b[0m\u001b[0m\n\u001b[1;32m      3\u001b[0m \u001b[0max1\u001b[0m\u001b[0;34m=\u001b[0m\u001b[0mformatted_data\u001b[0m\u001b[0;34m.\u001b[0m\u001b[0mplot\u001b[0m\u001b[0;34m(\u001b[0m\u001b[0mkind\u001b[0m\u001b[0;34m=\u001b[0m\u001b[0;34m'scatter'\u001b[0m\u001b[0;34m,\u001b[0m\u001b[0mx\u001b[0m\u001b[0;34m=\u001b[0m\u001b[0;34m'Date'\u001b[0m\u001b[0;34m,\u001b[0m\u001b[0my\u001b[0m\u001b[0;34m=\u001b[0m\u001b[0;34m'Open'\u001b[0m\u001b[0;34m,\u001b[0m\u001b[0mcolor\u001b[0m\u001b[0;34m=\u001b[0m\u001b[0;34m'blue'\u001b[0m\u001b[0;34m,\u001b[0m\u001b[0mgrid\u001b[0m\u001b[0;34m=\u001b[0m\u001b[0;32mTrue\u001b[0m\u001b[0;34m,\u001b[0m\u001b[0mlabel\u001b[0m\u001b[0;34m=\u001b[0m\u001b[0;34m'Low'\u001b[0m\u001b[0;34m)\u001b[0m\u001b[0;34m\u001b[0m\u001b[0;34m\u001b[0m\u001b[0m\n\u001b[1;32m      4\u001b[0m \u001b[0mformatted_data\u001b[0m\u001b[0;34m.\u001b[0m\u001b[0mplot\u001b[0m\u001b[0;34m(\u001b[0m\u001b[0mkind\u001b[0m\u001b[0;34m=\u001b[0m\u001b[0;34m'scatter'\u001b[0m\u001b[0;34m,\u001b[0m\u001b[0mx\u001b[0m\u001b[0;34m=\u001b[0m\u001b[0;34m'Date'\u001b[0m\u001b[0;34m,\u001b[0m\u001b[0my\u001b[0m\u001b[0;34m=\u001b[0m\u001b[0;34m'Close'\u001b[0m\u001b[0;34m,\u001b[0m\u001b[0mcolor\u001b[0m\u001b[0;34m=\u001b[0m\u001b[0;34m'red'\u001b[0m\u001b[0;34m,\u001b[0m\u001b[0mgrid\u001b[0m\u001b[0;34m=\u001b[0m\u001b[0;32mTrue\u001b[0m\u001b[0;34m,\u001b[0m\u001b[0mlabel\u001b[0m\u001b[0;34m=\u001b[0m\u001b[0;34m'High'\u001b[0m\u001b[0;34m,\u001b[0m\u001b[0max\u001b[0m\u001b[0;34m=\u001b[0m\u001b[0max1\u001b[0m\u001b[0;34m)\u001b[0m\u001b[0;34m\u001b[0m\u001b[0;34m\u001b[0m\u001b[0m\n",
      "\u001b[0;31mNameError\u001b[0m: name 'plt' is not defined"
     ]
    }
   ],
   "source": [
    "fig=plt.figure(figsize=(12,5))\n",
    "plt.xlabel('Date')\n",
    "ax1=formatted_data.plot(kind='scatter',x='Date',y='Open',color='blue',grid=True,label='Low')\n",
    "formatted_data.plot(kind='scatter',x='Date',y='Close',color='red',grid=True,label='High',ax=ax1)\n"
   ]
  },
  {
   "cell_type": "code",
   "execution_count": 17,
   "metadata": {},
   "outputs": [
    {
     "name": "stdout",
     "output_type": "stream",
     "text": [
      "          Date    Open    High     Low    Close   Volume  OpenInt\n",
      "0     20130322  133.00  139.65  113.82  113.820  1571124        0\n",
      "1     20130325  116.55  116.55  106.05  111.090   177744        0\n",
      "2     20130326  113.05  121.66  112.07  119.280    49860        0\n",
      "3     20130327  119.00  119.00  115.43  115.850    28975        0\n",
      "4     20130328  115.92  116.97  113.05  115.010    15870        0\n",
      "...        ...     ...     ...     ...      ...      ...      ...\n",
      "1166  20171106   14.10   14.15   14.00   14.100    15105        0\n",
      "1167  20171107   14.20   14.20   13.95   14.125    28862        0\n",
      "1168  20171108   14.10   14.15   13.45   13.500    36007        0\n",
      "1169  20171109   13.15   13.30   11.65   11.750    38685        0\n",
      "1170  20171110   11.10   11.25    9.50    9.650    61475        0\n",
      "\n",
      "[1171 rows x 7 columns]\n"
     ]
    }
   ],
   "source": [
    "def simple_test(x):\n",
    "    return x*2\n",
    "\n",
    "def date_to_nth_day(date):\n",
    "    format='%Y%m%d'\n",
    "    date = pd.to_datetime(date, format=format)\n",
    "    new_year_day = pd.Timestamp(year=date.year, month=1, day=1)\n",
    "    modified_date = date.year+(((date - new_year_day).days + 1)/365)\n",
    "    return modified_date\n",
    "\n",
    "print(formatted_data)\n",
    "formatted_data['Date']=formatted_data['Date'].apply(date_to_nth_day)"
   ]
  },
  {
   "cell_type": "code",
   "execution_count": 18,
   "metadata": {},
   "outputs": [
    {
     "name": "stdout",
     "output_type": "stream",
     "text": [
      "             Date    Open    High     Low    Close   Volume  OpenInt\n",
      "0     2013.221918  133.00  139.65  113.82  113.820  1571124        0\n",
      "1     2013.230137  116.55  116.55  106.05  111.090   177744        0\n",
      "2     2013.232877  113.05  121.66  112.07  119.280    49860        0\n",
      "3     2013.235616  119.00  119.00  115.43  115.850    28975        0\n",
      "4     2013.238356  115.92  116.97  113.05  115.010    15870        0\n",
      "...           ...     ...     ...     ...      ...      ...      ...\n",
      "1166  2017.849315   14.10   14.15   14.00   14.100    15105        0\n",
      "1167  2017.852055   14.20   14.20   13.95   14.125    28862        0\n",
      "1168  2017.854795   14.10   14.15   13.45   13.500    36007        0\n",
      "1169  2017.857534   13.15   13.30   11.65   11.750    38685        0\n",
      "1170  2017.860274   11.10   11.25    9.50    9.650    61475        0\n",
      "\n",
      "[1171 rows x 7 columns]\n"
     ]
    }
   ],
   "source": [
    "print(formatted_data)\n"
   ]
  },
  {
   "cell_type": "code",
   "execution_count": null,
   "metadata": {},
   "outputs": [],
   "source": []
  },
  {
   "cell_type": "code",
   "execution_count": null,
   "metadata": {},
   "outputs": [],
   "source": []
  }
 ],
 "metadata": {
  "kernelspec": {
   "display_name": "Python 3",
   "language": "python",
   "name": "python3"
  },
  "language_info": {
   "codemirror_mode": {
    "name": "ipython",
    "version": 3
   },
   "file_extension": ".py",
   "mimetype": "text/x-python",
   "name": "python",
   "nbconvert_exporter": "python",
   "pygments_lexer": "ipython3",
   "version": "3.7.3"
  }
 },
 "nbformat": 4,
 "nbformat_minor": 4
}
